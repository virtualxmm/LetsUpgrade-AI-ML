{
  "nbformat": 4,
  "nbformat_minor": 0,
  "metadata": {
    "colab": {
      "name": "Assignment Day 3",
      "provenance": [],
      "authorship_tag": "ABX9TyOXkoWyjglosSGAnlIOz+H7",
      "include_colab_link": true
    },
    "kernelspec": {
      "name": "python3",
      "display_name": "Python 3"
    }
  },
  "cells": [
    {
      "cell_type": "markdown",
      "metadata": {
        "id": "view-in-github",
        "colab_type": "text"
      },
      "source": [
        "<a href=\"https://colab.research.google.com/github/virtualxmm/LetsUpgrade-AI-ML/blob/master/Assignment_Day_3.ipynb\" target=\"_parent\"><img src=\"https://colab.research.google.com/assets/colab-badge.svg\" alt=\"Open In Colab\"/></a>"
      ]
    },
    {
      "cell_type": "markdown",
      "metadata": {
        "id": "vfZ8-C0C8bjj",
        "colab_type": "text"
      },
      "source": [
        "**Assignment Day 3 | 8th July 2020**"
      ]
    },
    {
      "cell_type": "code",
      "metadata": {
        "id": "QU_V1HZ6IXGj",
        "colab_type": "code",
        "colab": {
          "base_uri": "https://localhost:8080/",
          "height": 51
        },
        "outputId": "9d4240a1-ea6c-4d64-fadc-8bf7d5312969"
      },
      "source": [
        "import cmath \n",
        "import math\n",
        "\n",
        "def minus_complex(a,b):\n",
        "  \"\"\"\n",
        "  Question 1: write a program to substrac two complex numbers in python.\n",
        "  minus_complex(a,b) acepts two number a,b and use the cmath module for\n",
        "  complex number.\n",
        "  \"\"\"\n",
        "  c = complex(a) - complex(b)\n",
        "  return c\n",
        "\n",
        "number_one = 3+6j\n",
        "number_two = 4+7j\n",
        "\n",
        "print(minus_complex(number_one,number_two))\n",
        "print(minus_complex(number_two,number_one))\n",
        "\n"
      ],
      "execution_count": 33,
      "outputs": [
        {
          "output_type": "stream",
          "text": [
            "(-1-1j)\n",
            "(1+1j)\n"
          ],
          "name": "stdout"
        }
      ]
    },
    {
      "cell_type": "code",
      "metadata": {
        "id": "ODHi0KBA5DeW",
        "colab_type": "code",
        "colab": {
          "base_uri": "https://localhost:8080/",
          "height": 68
        },
        "outputId": "30e78812-56ca-437f-a714-8f1898936b5e"
      },
      "source": [
        "def root_four(number):\n",
        "  \"\"\"\n",
        "  Question 2: write a program to find the fourt root of a number\n",
        "  root_four(number) Calculate the fourth root using the mathematical \n",
        "  principle of the fraction when raising by a power.\n",
        "  \"\"\"\n",
        "  return number**(1/4)\n",
        "\n",
        "print(root_four(81))\n",
        "print(root_four(256))\n",
        "print(root_four(625))\n"
      ],
      "execution_count": 34,
      "outputs": [
        {
          "output_type": "stream",
          "text": [
            "3.0\n",
            "4.0\n",
            "5.0\n"
          ],
          "name": "stdout"
        }
      ]
    },
    {
      "cell_type": "code",
      "metadata": {
        "id": "4UKXuOV48JCd",
        "colab_type": "code",
        "colab": {
          "base_uri": "https://localhost:8080/",
          "height": 51
        },
        "outputId": "eee9da38-4d35-4e44-cec4-fafbae673271"
      },
      "source": [
        "def temporal_change(a,b):\n",
        "  \"\"\"\n",
        "  Question 3: Write a program to swap two numbers in Python \n",
        "  with the help of a temporary variable.\n",
        "  \"\"\"\n",
        "  c = a\n",
        "  a = b\n",
        "  b = c\n",
        "  return a,b\n",
        "\n",
        "print(temporal_change(1,2))\n",
        "print(temporal_change(3,7))"
      ],
      "execution_count": 35,
      "outputs": [
        {
          "output_type": "stream",
          "text": [
            "(2, 1)\n",
            "(7, 3)\n"
          ],
          "name": "stdout"
        }
      ]
    },
    {
      "cell_type": "code",
      "metadata": {
        "id": "mxfJdcl18F-r",
        "colab_type": "code",
        "colab": {
          "base_uri": "https://localhost:8080/",
          "height": 51
        },
        "outputId": "23348529-85a6-497d-be92-c4faa578e83c"
      },
      "source": [
        "def temporal(a,b):\n",
        "  \"\"\"\n",
        "  Question 4: Write a program to swap two numbers in Python without \n",
        "  using a temporary variable\n",
        "  \"\"\"\n",
        "  a,b = b,a\n",
        "  return a,b\n",
        "\n",
        "print(temporal(1,2))\n",
        "print(temporal(3,7))"
      ],
      "execution_count": 36,
      "outputs": [
        {
          "output_type": "stream",
          "text": [
            "(2, 1)\n",
            "(7, 3)\n"
          ],
          "name": "stdout"
        }
      ]
    },
    {
      "cell_type": "code",
      "metadata": {
        "id": "-nAa_3su8DOO",
        "colab_type": "code",
        "colab": {
          "base_uri": "https://localhost:8080/",
          "height": 68
        },
        "outputId": "ef84df49-da26-4476-c962-81cb754e3526"
      },
      "source": [
        "def convert_f_kc(fahrenheit):\n",
        "  \"\"\"\n",
        "  Question 5:\n",
        "  Write a program to convert fahrenheit to kelvin and celsius both.\n",
        "  \"\"\"\n",
        "  kelvin = 273.15 + ((fahrenheit - 32.0) * (5.0/9.0))\n",
        "  celcius = kelvin - 273.15\n",
        "  return kelvin, celcius\n",
        "\n",
        "print(convert_f_kc(300))\n",
        "print(convert_f_kc(400))\n",
        "print(convert_f_kc(212)) #boling point of the water"
      ],
      "execution_count": 37,
      "outputs": [
        {
          "output_type": "stream",
          "text": [
            "(422.0388888888889, 148.8888888888889)\n",
            "(477.59444444444443, 204.44444444444446)\n",
            "(373.15, 100.0)\n"
          ],
          "name": "stdout"
        }
      ]
    },
    {
      "cell_type": "code",
      "metadata": {
        "colab_type": "code",
        "id": "yl_OYvn15D-T",
        "colab": {
          "base_uri": "https://localhost:8080/",
          "height": 34
        },
        "outputId": "7eb2b6e1-8a16-4a69-ca82-1e5405f7b66b"
      },
      "source": [
        "def python_types():\n",
        "  \"\"\"\n",
        "  Question 6:\n",
        "  Write a program to demonstrate all the available data types in Python. Hint: Use type() function.\n",
        "  \"\"\"\n",
        "  return type(str()), type(int()), type(float()), type(dict()), type(tuple()), type(list()), type(bytes()), type(complex()), type(set())\n",
        "\n",
        "python_types()\n"
      ],
      "execution_count": 32,
      "outputs": [
        {
          "output_type": "execute_result",
          "data": {
            "text/plain": [
              "(str, int, float, dict, tuple, list, bytes, complex, set)"
            ]
          },
          "metadata": {
            "tags": []
          },
          "execution_count": 32
        }
      ]
    },
    {
      "cell_type": "markdown",
      "metadata": {
        "id": "arMB-lXh8juW",
        "colab_type": "text"
      },
      "source": [
        "**Create a Github profile** \\\\\n",
        "1) Go to github.com \\\\\n",
        "2) sign up with your username, mail and pasword. \\\\\n",
        "3) Check your mail for verification. \\\\\n",
        "\n",
        "**Upload Githubs assignment link**\\\\\n",
        "1) login in the github account \\\\\n",
        "2) click in new repositories \\\\\n",
        "3) add the repositorie name as: \n",
        "LetsUpgrade-AI-ML \\\\\n",
        "4) Make the repositorie public \\\\\n",
        "5) Click in create a repository \\\\\n",
        "6) Copy the public link for the folder \\\\\n",
        "7) Paste the link in the assignment submit form \\\\\n",
        "\n",
        "\n"
      ]
    }
  ]
}
