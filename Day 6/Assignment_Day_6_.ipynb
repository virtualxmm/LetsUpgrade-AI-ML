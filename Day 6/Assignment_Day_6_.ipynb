{
  "nbformat": 4,
  "nbformat_minor": 0,
  "metadata": {
    "colab": {
      "name": "Assignment Day 6.",
      "provenance": [],
      "collapsed_sections": [],
      "authorship_tag": "ABX9TyO/u98OksbTKtJBtjLw0XnY",
      "include_colab_link": true
    },
    "kernelspec": {
      "name": "python3",
      "display_name": "Python 3"
    }
  },
  "cells": [
    {
      "cell_type": "markdown",
      "metadata": {
        "id": "view-in-github",
        "colab_type": "text"
      },
      "source": [
        "<a href=\"https://colab.research.google.com/github/virtualxmm/LetsUpgrade-AI-ML/blob/master/Day%206/Assignment_Day_6_.ipynb\" target=\"_parent\"><img src=\"https://colab.research.google.com/assets/colab-badge.svg\" alt=\"Open In Colab\"/></a>"
      ]
    },
    {
      "cell_type": "markdown",
      "metadata": {
        "id": "AjgpVzRtHeKD",
        "colab_type": "text"
      },
      "source": [
        "**Question 1:**"
      ]
    },
    {
      "cell_type": "code",
      "metadata": {
        "id": "z3lA2eyfHcWC",
        "colab_type": "code",
        "colab": {}
      },
      "source": [
        "print(input(\"Write a mail: \").split(\"@\")[-1].split(\".\")[0]) "
      ],
      "execution_count": null,
      "outputs": []
    },
    {
      "cell_type": "markdown",
      "metadata": {
        "id": "8mtMVTXPIFQm",
        "colab_type": "text"
      },
      "source": [
        "**Question 2:**"
      ]
    },
    {
      "cell_type": "code",
      "metadata": {
        "id": "g_EQlKMtIH0x",
        "colab_type": "code",
        "colab": {}
      },
      "source": [
        "word_list = input(\"Write a list of word separated by comma:\").split(\",\")\n",
        "for word in sorted(word_list): \n",
        "  print(word, end=\",\") "
      ],
      "execution_count": null,
      "outputs": []
    },
    {
      "cell_type": "markdown",
      "metadata": {
        "id": "oYs4_gpPJPnq",
        "colab_type": "text"
      },
      "source": [
        "**Question 3:** \\\\\n",
        "go to https://colab.research.google.com/drive/1I_Myr526O-0_TdymzsyXBDKHinhbioCM?usp=sharing"
      ]
    },
    {
      "cell_type": "markdown",
      "metadata": {
        "id": "gFU1E5tHJXCB",
        "colab_type": "text"
      },
      "source": [
        "**Question 4:**"
      ]
    },
    {
      "cell_type": "code",
      "metadata": {
        "id": "f82H-vLsJR-r",
        "colab_type": "code",
        "colab": {}
      },
      "source": [
        "number_list = sorted(list(map(int,input().split(\" \"))))\n",
        "mini, maxi = number_list[0], number_list[-1]\n",
        "number_list = set(number_list)\n",
        "comp = {x for x in range(mini, maxi+1)}\n",
        "comp.difference(number_list)\n"
      ],
      "execution_count": null,
      "outputs": []
    },
    {
      "cell_type": "markdown",
      "metadata": {
        "id": "594659hoNb4j",
        "colab_type": "text"
      },
      "source": [
        "**Question 5:**"
      ]
    },
    {
      "cell_type": "code",
      "metadata": {
        "id": "rgLKMO93Nd4S",
        "colab_type": "code",
        "colab": {}
      },
      "source": [
        "list_l = input(\"Write a list for remove duplicates numbers: \").split(\" \")\n",
        "list_l = set(list_l)\n",
        "list_l = sorted([int(x) for x in list_l])\n",
        "list_l"
      ],
      "execution_count": null,
      "outputs": []
    }
  ]
}