{
  "nbformat": 4,
  "nbformat_minor": 0,
  "metadata": {
    "colab": {
      "name": "Assignment Day 4",
      "provenance": [],
      "authorship_tag": "ABX9TyNQAfQ2nCNk+dCbmS3woJ9u",
      "include_colab_link": true
    },
    "kernelspec": {
      "name": "python3",
      "display_name": "Python 3"
    }
  },
  "cells": [
    {
      "cell_type": "markdown",
      "metadata": {
        "id": "view-in-github",
        "colab_type": "text"
      },
      "source": [
        "<a href=\"https://colab.research.google.com/github/virtualxmm/LetsUpgrade-AI-ML/blob/master/Day%204/Assignment_Day_4.ipynb\" target=\"_parent\"><img src=\"https://colab.research.google.com/assets/colab-badge.svg\" alt=\"Open In Colab\"/></a>"
      ]
    },
    {
      "cell_type": "markdown",
      "metadata": {
        "id": "2z8DgCTu7G6g",
        "colab_type": "text"
      },
      "source": [
        "**Assignment Day 4**"
      ]
    },
    {
      "cell_type": "markdown",
      "metadata": {
        "id": "YtvKgaU-Bg6h",
        "colab_type": "text"
      },
      "source": [
        "**Question 1:**"
      ]
    },
    {
      "cell_type": "code",
      "metadata": {
        "id": "JNFV2aX57FTQ",
        "colab_type": "code",
        "colab": {
          "base_uri": "https://localhost:8080/",
          "height": 85
        },
        "outputId": "7f941d0c-7cea-44e3-e92f-4d370a57e13d"
      },
      "source": [
        "#Question 1: Demostration of complex number operation in python.\n",
        "print(\"Addition of two complex numbers : \",(4+3j)+(3-7j))\n",
        "print(\"Subtraction of two complex numbers : \",(4+3j)-(3-7j))\n",
        "print(\"Division of two complex numbers : \",(4+3j)/(3-7j))\n",
        "print(\"Multiplication of two complex numbers : \",(4+3j)*(3-7j))\n",
        "print(\"Modulo of two complex numbers : \",abs(4+3j)) # it's posible to calculate the module of a complex number using de abs() function.\n",
        "#print(\"Floor division of two complex numbers : \",(4+3j)//(3-7j)) it's imposible for complex number calculate floor division."
      ],
      "execution_count": 3,
      "outputs": [
        {
          "output_type": "stream",
          "text": [
            "Addition of two complex numbers :  (7-4j)\n",
            "Subtraction of two complex numbers :  (1+10j)\n",
            "Division of two complex numbers :  (-0.15517241379310348+0.6379310344827587j)\n",
            "Multiplication of two complex numbers :  (33-19j)\n"
          ],
          "name": "stdout"
        }
      ]
    },
    {
      "cell_type": "markdown",
      "metadata": {
        "id": "uIk_WKpI9Jwx",
        "colab_type": "text"
      },
      "source": [
        "**Question 2:**\n",
        "The range () function is an iterable function, which allows you to return an iterable object, allowing each item to be used in a loop and continuing with the next item in the next loop cycle. \\\\\n",
        "range(start, stop[, step]) requires at least two variables: start and end. But a third can be added to indicate the jump of the numbers. It is necessary to verify that the start and end values are compatible with the jump, otherwise an iterable object will not be generated."
      ]
    },
    {
      "cell_type": "code",
      "metadata": {
        "id": "tp6y5nVn-Hre",
        "colab_type": "code",
        "colab": {
          "base_uri": "https://localhost:8080/",
          "height": 170
        },
        "outputId": "2d6ac733-3353-447f-aa3c-2b050f76e323"
      },
      "source": [
        "for number in range(1,10):\n",
        "  print(number)"
      ],
      "execution_count": 8,
      "outputs": [
        {
          "output_type": "stream",
          "text": [
            "1\n",
            "2\n",
            "3\n",
            "4\n",
            "5\n",
            "6\n",
            "7\n",
            "8\n",
            "9\n"
          ],
          "name": "stdout"
        }
      ]
    },
    {
      "cell_type": "markdown",
      "metadata": {
        "id": "KKkbP6sy_256",
        "colab_type": "text"
      },
      "source": [
        "**Question 3:**"
      ]
    },
    {
      "cell_type": "code",
      "metadata": {
        "id": "pFEGlKbO_6so",
        "colab_type": "code",
        "colab": {
          "base_uri": "https://localhost:8080/",
          "height": 34
        },
        "outputId": "9726a4a5-34e2-454a-b959-d15f3056e5bb"
      },
      "source": [
        "a = 23\n",
        "b = 45\n",
        "if a-b > 25:\n",
        "  print(a*b) # 1035\n",
        "else:\n",
        "  print(a/b) # 0,511111111"
      ],
      "execution_count": 9,
      "outputs": [
        {
          "output_type": "stream",
          "text": [
            "0.5111111111111111\n"
          ],
          "name": "stdout"
        }
      ]
    },
    {
      "cell_type": "markdown",
      "metadata": {
        "id": "J33pECIpAU-c",
        "colab_type": "text"
      },
      "source": [
        "**Question 4:**"
      ]
    },
    {
      "cell_type": "code",
      "metadata": {
        "id": "iLdZYCvqAXVw",
        "colab_type": "code",
        "colab": {
          "base_uri": "https://localhost:8080/",
          "height": 102
        },
        "outputId": "7587c8c7-ad33-48a0-ea6f-324472cd408f"
      },
      "source": [
        "for number in range(10,20):\n",
        "  if number % 2 == 0:\n",
        "    print(number**2-2)\n",
        "  else:\n",
        "    pass"
      ],
      "execution_count": 10,
      "outputs": [
        {
          "output_type": "stream",
          "text": [
            "98\n",
            "142\n",
            "194\n",
            "254\n",
            "322\n"
          ],
          "name": "stdout"
        }
      ]
    },
    {
      "cell_type": "markdown",
      "metadata": {
        "id": "77br7oAPA9wW",
        "colab_type": "text"
      },
      "source": [
        "**Question 5:**"
      ]
    },
    {
      "cell_type": "code",
      "metadata": {
        "id": "8ZpKkoMzBBK_",
        "colab_type": "code",
        "colab": {
          "base_uri": "https://localhost:8080/",
          "height": 85
        },
        "outputId": "d0d73b01-6d1b-42e5-92c0-eb790d0c7b35"
      },
      "source": [
        "for item in range(5,15):\n",
        "  if (item % 2 ==0) & (item>7):\n",
        "    print(item)\n",
        "    "
      ],
      "execution_count": 12,
      "outputs": [
        {
          "output_type": "stream",
          "text": [
            "8\n",
            "10\n",
            "12\n",
            "14\n"
          ],
          "name": "stdout"
        }
      ]
    }
  ]
}