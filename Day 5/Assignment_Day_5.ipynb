{
  "nbformat": 4,
  "nbformat_minor": 0,
  "metadata": {
    "colab": {
      "name": "Assignment Day 5",
      "provenance": [],
      "authorship_tag": "ABX9TyNGT1wqTXUV1wPgCYzr+5NW",
      "include_colab_link": true
    },
    "kernelspec": {
      "name": "python3",
      "display_name": "Python 3"
    }
  },
  "cells": [
    {
      "cell_type": "markdown",
      "metadata": {
        "id": "view-in-github",
        "colab_type": "text"
      },
      "source": [
        "<a href=\"https://colab.research.google.com/github/virtualxmm/LetsUpgrade-AI-ML/blob/master/Day%205/Assignment_Day_5.ipynb\" target=\"_parent\"><img src=\"https://colab.research.google.com/assets/colab-badge.svg\" alt=\"Open In Colab\"/></a>"
      ]
    },
    {
      "cell_type": "markdown",
      "metadata": {
        "id": "unR2A3mHu0vq",
        "colab_type": "text"
      },
      "source": [
        "**Question 1:** \\\\\n",
        "20 firts natural primer number"
      ]
    },
    {
      "cell_type": "code",
      "metadata": {
        "id": "C4EJmhh8uv71",
        "colab_type": "code",
        "colab": {
          "base_uri": "https://localhost:8080/",
          "height": 34
        },
        "outputId": "b9deb787-c481-437c-dba7-4a27ba5522c8"
      },
      "source": [
        "def prime_number(max_number: int):\n",
        "    prime = [2]\n",
        "    for x in range(3, max_number):\n",
        "        for i in range(2, x):\n",
        "            if x % i != 0:\n",
        "                continue\n",
        "            else:\n",
        "                break\n",
        "        else:\n",
        "            prime.append(x)\n",
        "            #print(\"%d it's prime\", x)\n",
        "    return prime\n",
        "  \n",
        "print(prime_number(20))"
      ],
      "execution_count": null,
      "outputs": [
        {
          "output_type": "stream",
          "text": [
            "[2, 3, 5, 7, 11, 13, 17, 19]\n"
          ],
          "name": "stdout"
        }
      ]
    },
    {
      "cell_type": "code",
      "metadata": {
        "id": "HUgpaFa_2ebi",
        "colab_type": "code",
        "colab": {}
      },
      "source": [
        ""
      ],
      "execution_count": null,
      "outputs": []
    }
  ]
}